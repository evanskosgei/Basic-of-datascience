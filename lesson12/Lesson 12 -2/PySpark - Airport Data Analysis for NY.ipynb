{
 "cells": [
  {
   "cell_type": "code",
   "execution_count": 1,
   "metadata": {
    "collapsed": false
   },
   "outputs": [
    {
     "ename": "NameError",
     "evalue": "name 'sc' is not defined",
     "output_type": "error",
     "traceback": [
      "\u001b[1;31m---------------------------------------------------------------------------\u001b[0m",
      "\u001b[1;31mNameError\u001b[0m                                 Traceback (most recent call last)",
      "\u001b[1;32m~\\AppData\\Local\\Temp/ipykernel_5208/1794165304.py\u001b[0m in \u001b[0;36m<module>\u001b[1;34m\u001b[0m\n\u001b[0;32m      1\u001b[0m \u001b[1;31m#verify the Spark Context first\u001b[0m\u001b[1;33m\u001b[0m\u001b[1;33m\u001b[0m\u001b[1;33m\u001b[0m\u001b[0m\n\u001b[1;32m----> 2\u001b[1;33m \u001b[0msc\u001b[0m\u001b[1;33m\u001b[0m\u001b[1;33m\u001b[0m\u001b[0m\n\u001b[0m",
      "\u001b[1;31mNameError\u001b[0m: name 'sc' is not defined"
     ]
    }
   ],
   "source": [
    "#verify the Spark Context first  \n",
    "sc"
   ]
  },
  {
   "cell_type": "code",
   "execution_count": null,
   "metadata": {
    "collapsed": false
   },
   "outputs": [],
   "source": [
    "#airport data file\n",
    "datafile = sc.textFile('C:\\dataset\\Airport.csv')"
   ]
  },
  {
   "cell_type": "code",
   "execution_count": null,
   "metadata": {
    "collapsed": false
   },
   "outputs": [
    {
     "data": {
      "text/plain": [
       "6389"
      ]
     },
     "execution_count": 3,
     "metadata": {},
     "output_type": "execute_result"
    }
   ],
   "source": [
    "#verify the airport data count\n",
    "datafile.count()"
   ]
  },
  {
   "cell_type": "code",
   "execution_count": null,
   "metadata": {
    "collapsed": false
   },
   "outputs": [
    {
     "data": {
      "text/plain": [
       "[u'Code,Description',\n",
       " u'\"01A\",\"Afognak Lake, AK: Afognak Lake Airport\"',\n",
       " u'\"03A\",\"Granite Mountain, AK: Bear Creek Mining Strip\"',\n",
       " u'\"04A\",\"Lik, AK: Lik Mining Camp\"',\n",
       " u'\"05A\",\"Little Squaw, AK: Little Squaw Airport\"',\n",
       " u'\"06A\",\"Kizhuyak, AK: Kizhuyak Bay\"',\n",
       " u'\"07A\",\"Klawock, AK: Klawock Seaplane Base\"',\n",
       " u'\"08A\",\"Elizabeth Island, AK: Elizabeth Island Airport\"',\n",
       " u'\"09A\",\"Homer, AK: Augustin Island\"',\n",
       " u'\"1B1\",\"Hudson, NY: Columbia County\"']"
      ]
     },
     "execution_count": 5,
     "metadata": {},
     "output_type": "execute_result"
    }
   ],
   "source": [
    "#view first 10 records\n",
    "datafile.take(10)"
   ]
  },
  {
   "cell_type": "code",
   "execution_count": null,
   "metadata": {
    "collapsed": true
   },
   "outputs": [],
   "source": [
    "#filter the data based on the new york state (NY) code data\n",
    "NY_code_filter  = datafile.filter(lambda x:'NY' in x)"
   ]
  },
  {
   "cell_type": "code",
   "execution_count": null,
   "metadata": {
    "collapsed": false
   },
   "outputs": [
    {
     "data": {
      "text/plain": [
       "81"
      ]
     },
     "execution_count": 7,
     "metadata": {},
     "output_type": "execute_result"
    }
   ],
   "source": [
    "#verify the number of airports which have NY in the content\n",
    "NY_code_filter.count()"
   ]
  },
  {
   "cell_type": "code",
   "execution_count": null,
   "metadata": {
    "collapsed": false
   },
   "outputs": [
    {
     "data": {
      "text/plain": [
       "[u'\"1B1\",\"Hudson, NY: Columbia County\"',\n",
       " u'\"1NY\",\"Penn Yan, NY: Penn Yan Airport\"',\n",
       " u'\"ALB\",\"Albany, NY: Albany International\"',\n",
       " u'\"ART\",\"Watertown, NY: Watertown International\"',\n",
       " u'\"AXB\",\"Alexandria Bay, NY: Maxson Airfield\"',\n",
       " u'\"BGM\",\"Binghamton, NY: Greater Binghamton/Edwin A. Link Field\"',\n",
       " u'\"BUF\",\"Buffalo, NY: Buffalo Niagara International\"',\n",
       " u'\"CNY\",\"Moab, UT: Canyonlands Field\"',\n",
       " u'\"CTO\",\"Calverton, NY: Calverton Executive Airpark\"',\n",
       " u'\"CTX\",\"Cortland, NY: Cortland County Chase Field\"',\n",
       " u'\"DKK\",\"Dunkirk, NY: Chautauqua County/Dunkirk\"',\n",
       " u'\"DQK\",\"Fort Drum, NY: Wheeler-Sack AAF\"',\n",
       " u'\"ELM\",\"Elmira/Corning, NY: Elmira/Corning Regional\"',\n",
       " u'\"FID\",\"Fishers Island, NY: Elizabeth Field\"',\n",
       " u'\"FLU\",\"New York, NY: Flushing\"',\n",
       " u'\"FOK\",\"Westhampton, NY: Francis S. Gabreski\"',\n",
       " u'\"FRG\",\"East Farmingdale, NY: Republic\"',\n",
       " u'\"GFL\",\"Glens Falls, NY: Floyd Bennett Memorial\"',\n",
       " u'\"GVQ\",\"Batavia, NY: Genesee County\"',\n",
       " u'\"HPN\",\"White Plains, NY: Westchester County\"',\n",
       " u'\"HTO\",\"East Hampton, NY: East Hampton Airport\"',\n",
       " u'\"IAG\",\"Niagara Falls, NY: Niagara Falls International\"',\n",
       " u'\"ISP\",\"Islip, NY: Long Island MacArthur\"',\n",
       " u'\"ITH\",\"Ithaca/Cortland, NY: Ithaca Tompkins Regional\"',\n",
       " u'\"JFK\",\"New York, NY: John F. Kennedy International\"',\n",
       " u'\"JHC\",\"Garden City, NY: Island Heliport\"',\n",
       " u'\"JHW\",\"Jamestown, NY: Chautauqua County/Jamestown\"',\n",
       " u'\"JPB\",\"New York, NY: Pan Am Building Heliport\"',\n",
       " u'\"JRA\",\"New York, NY: West 30th Street Heliport\"',\n",
       " u'\"JRB\",\"New York, NY: Downtown Manhattan/Wall Street Heliport\"',\n",
       " u'\"JRE\",\"New York, NY: East 60th Street Heliport\"',\n",
       " u'\"LGA\",\"New York, NY: LaGuardia\"',\n",
       " u'\"LKP\",\"Lake Placid, NY: Lake Placid Airport\"',\n",
       " u'\"LNY\",\"Lanai, HI: Lanai Airport\"',\n",
       " u'\"MGJ\",\"Montgomery, NY: Orange County\"',\n",
       " u'\"MSS\",\"Massena, NY: Massena International-Richards Field\"',\n",
       " u'\"MSV\",\"Monticello, NY: Sullivan County International\"',\n",
       " u'\"MTP\",\"Montauk Point, NY: Sky Portal\"',\n",
       " u'\"N1Y\",\"Canandaigua, NY: Canandaigua Airport\"',\n",
       " u'\"NBJ\",\"Newburgh, NY: Newburgh Airport\"',\n",
       " u'\"NNY\",\"Nanyang, China: Nanyang East\"',\n",
       " u'\"NY1\",\"Kingston, NY: Kingston Ulster\"',\n",
       " u'\"NY2\",\"Fulton, NY: Oswego County\"',\n",
       " u'\"NY3\",\"Brockport, NY: Ledgedale Airpark\"',\n",
       " u'\"NY4\",\"Potsdam, NY: Potsdam Municipal Damon Field\"',\n",
       " u'\"NY5\",\"Millbrook, NY: Sky Acres\"',\n",
       " u'\"NY6\",\"Johnstown, NY: Fulton County\"',\n",
       " u'\"NY7\",\"Skaneateles, NY: Skaneateles Aero Drome\"',\n",
       " u'\"NY8\",\"Mattituck, NY: Mattituck Airport\"',\n",
       " u'\"NY9\",\"Hornell, NY: Hornell Municipal\"',\n",
       " u'\"NYC\",\"New York, NY: New York City Metropolitan Area\"',\n",
       " u'\"NYL\",\"Yuma, AZ: Yuma MCAS/Yuma International\"',\n",
       " u'\"NYO\",\"Nykoping, Sweden: Skavsta\"',\n",
       " u'\"NYT\",\"Naypyitaw, Burma: Naypyitaw International\"',\n",
       " u'\"NYU\",\"Nyaung-U, Burma: Bagan\"',\n",
       " u'\"OGS\",\"Ogdensburg, NY: Ogdensburg International\"',\n",
       " u'\"OIC\",\"Norwich, NY: Eaton\"',\n",
       " u'\"OLE\",\"Olean, NY: Cattaraugus County-Olean\"',\n",
       " u'\"ONH\",\"Oneonta, NY: Oneonta Municipal\"',\n",
       " u'\"PBG\",\"Plattsburgh, NY: Plattsburgh International\"',\n",
       " u'\"PLB\",\"Plattsburgh, NY: Clinton County\"',\n",
       " u'\"POU\",\"Poughkeepsie, NY: Dutchess County\"',\n",
       " u'\"RME\",\"Rome, NY: Griffiss International\"',\n",
       " u'\"ROC\",\"Rochester, NY: Greater Rochester International\"',\n",
       " u'\"RQO\",\"Seneca, NY: Seneca AAF\"',\n",
       " u'\"SCH\",\"Schenectady, NY: Schenectady County\"',\n",
       " u'\"SLK\",\"Saranac Lake/Lake Placid, NY: Adirondack Regional\"',\n",
       " u'\"SNY\",\"Sidney, NE: Sidney Municipal/Lloyd W. Carr Field\"',\n",
       " u'\"SWF\",\"Newburgh/Poughkeepsie, NY: Stewart International\"',\n",
       " u'\"SXY\",\"Sidney, NY: Sidney Municipal\"',\n",
       " u'\"SYR\",\"Syracuse, NY: Syracuse Hancock International\"',\n",
       " u'\"TSS\",\"New York, NY: East 34th Street Heliport\"',\n",
       " u'\"UCA\",\"Utica/Rome, NY: Oneida County\"',\n",
       " u'\"VGC\",\"Hamilton, NY: Hamilton Municipal\"',\n",
       " u'\"VNY\",\"Van Nuys, CA: Van Nuys Airport\"',\n",
       " u'\"VWK\",\"Saratoga Springs, NY: Saratoga County\"',\n",
       " u'\"WNY\",\"Burnie, Australia: Wynyard\"',\n",
       " u'\"WQA\",\"Ovid, NY: Ovid Airport\"',\n",
       " u'\"WSH\",\"Shirley, NY: Brookhaven\"',\n",
       " u'\"WTC\",\"New York, NY: World Trade Center Heliport\"',\n",
       " u'\"YNY\",\"Yangyang, South Korea: Yangyang International\"']"
      ]
     },
     "execution_count": 8,
     "metadata": {},
     "output_type": "execute_result"
    }
   ],
   "source": [
    "#view the airports which have NY in the content \n",
    "NY_code_filter.collect()"
   ]
  },
  {
   "cell_type": "code",
   "execution_count": null,
   "metadata": {
    "collapsed": true
   },
   "outputs": [],
   "source": [
    "#clean up the data for NY based upon the content\n",
    "NY_Airports = NY_code_filter.filter(lambda x:', NY' in x)"
   ]
  },
  {
   "cell_type": "code",
   "execution_count": null,
   "metadata": {
    "collapsed": false
   },
   "outputs": [
    {
     "data": {
      "text/plain": [
       "70"
      ]
     },
     "execution_count": 10,
     "metadata": {},
     "output_type": "execute_result"
    }
   ],
   "source": [
    "#NY airport count after cleanup\n",
    "NY_Airports.count()"
   ]
  },
  {
   "cell_type": "code",
   "execution_count": null,
   "metadata": {
    "collapsed": false
   },
   "outputs": [
    {
     "data": {
      "text/plain": [
       "[u'\"1B1\",\"Hudson, NY: Columbia County\"',\n",
       " u'\"1NY\",\"Penn Yan, NY: Penn Yan Airport\"',\n",
       " u'\"ALB\",\"Albany, NY: Albany International\"',\n",
       " u'\"ART\",\"Watertown, NY: Watertown International\"',\n",
       " u'\"AXB\",\"Alexandria Bay, NY: Maxson Airfield\"',\n",
       " u'\"BGM\",\"Binghamton, NY: Greater Binghamton/Edwin A. Link Field\"',\n",
       " u'\"BUF\",\"Buffalo, NY: Buffalo Niagara International\"',\n",
       " u'\"CTO\",\"Calverton, NY: Calverton Executive Airpark\"',\n",
       " u'\"CTX\",\"Cortland, NY: Cortland County Chase Field\"',\n",
       " u'\"DKK\",\"Dunkirk, NY: Chautauqua County/Dunkirk\"',\n",
       " u'\"DQK\",\"Fort Drum, NY: Wheeler-Sack AAF\"',\n",
       " u'\"ELM\",\"Elmira/Corning, NY: Elmira/Corning Regional\"',\n",
       " u'\"FID\",\"Fishers Island, NY: Elizabeth Field\"',\n",
       " u'\"FLU\",\"New York, NY: Flushing\"',\n",
       " u'\"FOK\",\"Westhampton, NY: Francis S. Gabreski\"',\n",
       " u'\"FRG\",\"East Farmingdale, NY: Republic\"',\n",
       " u'\"GFL\",\"Glens Falls, NY: Floyd Bennett Memorial\"',\n",
       " u'\"GVQ\",\"Batavia, NY: Genesee County\"',\n",
       " u'\"HPN\",\"White Plains, NY: Westchester County\"',\n",
       " u'\"HTO\",\"East Hampton, NY: East Hampton Airport\"',\n",
       " u'\"IAG\",\"Niagara Falls, NY: Niagara Falls International\"',\n",
       " u'\"ISP\",\"Islip, NY: Long Island MacArthur\"',\n",
       " u'\"ITH\",\"Ithaca/Cortland, NY: Ithaca Tompkins Regional\"',\n",
       " u'\"JFK\",\"New York, NY: John F. Kennedy International\"',\n",
       " u'\"JHC\",\"Garden City, NY: Island Heliport\"',\n",
       " u'\"JHW\",\"Jamestown, NY: Chautauqua County/Jamestown\"',\n",
       " u'\"JPB\",\"New York, NY: Pan Am Building Heliport\"',\n",
       " u'\"JRA\",\"New York, NY: West 30th Street Heliport\"',\n",
       " u'\"JRB\",\"New York, NY: Downtown Manhattan/Wall Street Heliport\"',\n",
       " u'\"JRE\",\"New York, NY: East 60th Street Heliport\"',\n",
       " u'\"LGA\",\"New York, NY: LaGuardia\"',\n",
       " u'\"LKP\",\"Lake Placid, NY: Lake Placid Airport\"',\n",
       " u'\"MGJ\",\"Montgomery, NY: Orange County\"',\n",
       " u'\"MSS\",\"Massena, NY: Massena International-Richards Field\"',\n",
       " u'\"MSV\",\"Monticello, NY: Sullivan County International\"',\n",
       " u'\"MTP\",\"Montauk Point, NY: Sky Portal\"',\n",
       " u'\"N1Y\",\"Canandaigua, NY: Canandaigua Airport\"',\n",
       " u'\"NBJ\",\"Newburgh, NY: Newburgh Airport\"',\n",
       " u'\"NY1\",\"Kingston, NY: Kingston Ulster\"',\n",
       " u'\"NY2\",\"Fulton, NY: Oswego County\"',\n",
       " u'\"NY3\",\"Brockport, NY: Ledgedale Airpark\"',\n",
       " u'\"NY4\",\"Potsdam, NY: Potsdam Municipal Damon Field\"',\n",
       " u'\"NY5\",\"Millbrook, NY: Sky Acres\"',\n",
       " u'\"NY6\",\"Johnstown, NY: Fulton County\"',\n",
       " u'\"NY7\",\"Skaneateles, NY: Skaneateles Aero Drome\"',\n",
       " u'\"NY8\",\"Mattituck, NY: Mattituck Airport\"',\n",
       " u'\"NY9\",\"Hornell, NY: Hornell Municipal\"',\n",
       " u'\"NYC\",\"New York, NY: New York City Metropolitan Area\"',\n",
       " u'\"OGS\",\"Ogdensburg, NY: Ogdensburg International\"',\n",
       " u'\"OIC\",\"Norwich, NY: Eaton\"',\n",
       " u'\"OLE\",\"Olean, NY: Cattaraugus County-Olean\"',\n",
       " u'\"ONH\",\"Oneonta, NY: Oneonta Municipal\"',\n",
       " u'\"PBG\",\"Plattsburgh, NY: Plattsburgh International\"',\n",
       " u'\"PLB\",\"Plattsburgh, NY: Clinton County\"',\n",
       " u'\"POU\",\"Poughkeepsie, NY: Dutchess County\"',\n",
       " u'\"RME\",\"Rome, NY: Griffiss International\"',\n",
       " u'\"ROC\",\"Rochester, NY: Greater Rochester International\"',\n",
       " u'\"RQO\",\"Seneca, NY: Seneca AAF\"',\n",
       " u'\"SCH\",\"Schenectady, NY: Schenectady County\"',\n",
       " u'\"SLK\",\"Saranac Lake/Lake Placid, NY: Adirondack Regional\"',\n",
       " u'\"SWF\",\"Newburgh/Poughkeepsie, NY: Stewart International\"',\n",
       " u'\"SXY\",\"Sidney, NY: Sidney Municipal\"',\n",
       " u'\"SYR\",\"Syracuse, NY: Syracuse Hancock International\"',\n",
       " u'\"TSS\",\"New York, NY: East 34th Street Heliport\"',\n",
       " u'\"UCA\",\"Utica/Rome, NY: Oneida County\"',\n",
       " u'\"VGC\",\"Hamilton, NY: Hamilton Municipal\"',\n",
       " u'\"VWK\",\"Saratoga Springs, NY: Saratoga County\"',\n",
       " u'\"WQA\",\"Ovid, NY: Ovid Airport\"',\n",
       " u'\"WSH\",\"Shirley, NY: Brookhaven\"',\n",
       " u'\"WTC\",\"New York, NY: World Trade Center Heliport\"']"
      ]
     },
     "execution_count": 11,
     "metadata": {},
     "output_type": "execute_result"
    }
   ],
   "source": [
    "#view NY airport data\n",
    "NY_Airports.collect()"
   ]
  },
  {
   "cell_type": "code",
   "execution_count": null,
   "metadata": {
    "collapsed": true
   },
   "outputs": [],
   "source": []
  },
  {
   "cell_type": "code",
   "execution_count": null,
   "metadata": {
    "collapsed": true
   },
   "outputs": [],
   "source": []
  }
 ],
 "metadata": {
  "interpreter": {
   "hash": "a248ee2b75b2cfe4cb0741da8651464fa227ad10b1dd03ad8a0df0c0771cdb02"
  },
  "kernelspec": {
   "display_name": "Python 2",
   "language": "python",
   "name": "python3"
  },
  "language_info": {
   "codemirror_mode": {
    "name": "ipython",
    "version": 3
   },
   "file_extension": ".py",
   "mimetype": "text/x-python",
   "name": "python",
   "nbconvert_exporter": "python",
   "pygments_lexer": "ipython3",
   "version": "3.8.5"
  }
 },
 "nbformat": 4,
 "nbformat_minor": 0
}
