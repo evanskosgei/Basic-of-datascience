{
 "cells": [
  {
   "cell_type": "code",
   "execution_count": null,
   "metadata": {},
   "outputs": [],
   "source": [
    "#import required libraries\n",
    "import numpy as np\n",
    "# import kmeans class from sklearn.cluster\n",
    "from sklearn.cluster import KMeans\n",
    "# import make_blobs dataset from sklearn.cluster\n",
    "from sklearn.datasets import make_blobs"
   ]
  },
  {
   "cell_type": "code",
   "execution_count": null,
   "metadata": {},
   "outputs": [],
   "source": [
    "#define number of samples\n",
    "n_samples = 300\n",
    "#define random state value to initialize the center\n",
    "random_state =20\n",
    "#define number of features as 5\n",
    "x,y = make_blobs(n_samples= n_samples, n_features=5, random_state=None)\n",
    "#define number of cluster to be formed as 3 and in random state and fit features into the model\n",
    "predict_y = KMeans(n_clusters=3, random_state=random_state).fit_predict(x)\n",
    "#print the estimator prediction\n",
    "predict_y"
   ]
  }
 ],
 "metadata": {
  "interpreter": {
   "hash": "a248ee2b75b2cfe4cb0741da8651464fa227ad10b1dd03ad8a0df0c0771cdb02"
  },
  "kernelspec": {
   "display_name": "Python 3.8.5 64-bit",
   "language": "python",
   "name": "python3"
  },
  "language_info": {
   "codemirror_mode": {
    "name": "ipython",
    "version": 3
   },
   "file_extension": ".py",
   "mimetype": "text/x-python",
   "name": "python",
   "nbconvert_exporter": "python",
   "pygments_lexer": "ipython3",
   "version": "3.8.5"
  },
  "orig_nbformat": 4
 },
 "nbformat": 4,
 "nbformat_minor": 2
}
