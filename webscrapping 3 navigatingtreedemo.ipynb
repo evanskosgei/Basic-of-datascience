{
 "cells": [
  {
   "cell_type": "code",
   "execution_count": 1,
   "metadata": {},
   "outputs": [],
   "source": [
    "#import required library\n",
    "from bs4 import BeautifulSoup"
   ]
  },
  {
   "cell_type": "code",
   "execution_count": 2,
   "metadata": {},
   "outputs": [],
   "source": [
    "#create html document\n",
    "book_html_doc =\"\"\"<html>\n",
    "<head>\n",
    "<script></script>\n",
    "</head>\n",
    "<body>\n",
    "<h1>my first heading</h1>\n",
    "<b><!--this a comment line--></b>\n",
    "<p title =\"About me\" class=\"test\">My first paragraph.</p>\n",
    "<div class=\"cities\">\n",
    "<h2>London</h2>\n",
    "</div>\n",
    "</body>\n",
    "</html>\n",
    "\"\"\""
   ]
  },
  {
   "cell_type": "code",
   "execution_count": 3,
   "metadata": {},
   "outputs": [],
   "source": [
    "#create soup object\n",
    "book_soup = BeautifulSoup(book_html_doc, 'html.parser')"
   ]
  },
  {
   "cell_type": "code",
   "execution_count": 5,
   "metadata": {},
   "outputs": [
    {
     "name": "stdout",
     "output_type": "stream",
     "text": [
      "<body>\n",
      "<h1>my first heading</h1>\n",
      "<b><!--this a comment line--></b>\n",
      "<p class=\"test\" title=\"About me\">My first paragraph.</p>\n",
      "<div class=\"cities\">\n",
      "<h2>London</h2>\n",
      "</div>\n",
      "</body>\n"
     ]
    }
   ],
   "source": [
    "#print catalog tag\n",
    "print(book_soup.body)"
   ]
  },
  {
   "cell_type": "code",
   "execution_count": 6,
   "metadata": {},
   "outputs": [
    {
     "data": {
      "text/plain": [
       "<head>\n",
       "<script></script>\n",
       "</head>"
      ]
     },
     "execution_count": 6,
     "metadata": {},
     "output_type": "execute_result"
    }
   ],
   "source": [
    "#view the head of the html doc\n",
    "book_soup.head"
   ]
  },
  {
   "cell_type": "code",
   "execution_count": 8,
   "metadata": {},
   "outputs": [
    {
     "name": "stdout",
     "output_type": "stream",
     "text": [
      "<p class=\"test\" title=\"About me\">My first paragraph.</p>\n"
     ]
    }
   ],
   "source": [
    "#print body bold tag\n",
    "print(book_soup.body.p)"
   ]
  },
  {
   "cell_type": "code",
   "execution_count": 9,
   "metadata": {},
   "outputs": [
    {
     "name": "stdout",
     "output_type": "stream",
     "text": [
      "\n",
      "\n",
      "<h1>my first heading</h1>\n",
      "my first heading\n",
      "\n",
      "\n",
      "<b><!--this a comment line--></b>\n",
      "this a comment line\n",
      "\n",
      "\n",
      "<p class=\"test\" title=\"About me\">My first paragraph.</p>\n",
      "My first paragraph.\n",
      "\n",
      "\n",
      "<div class=\"cities\">\n",
      "<h2>London</h2>\n",
      "</div>\n",
      "\n",
      "\n",
      "<h2>London</h2>\n",
      "London\n",
      "\n",
      "\n",
      "\n",
      "\n"
     ]
    }
   ],
   "source": [
    "#navigate down the descendants and print them\n",
    "for descen in book_soup.body.descendants:\n",
    "    print(descen)"
   ]
  },
  {
   "cell_type": "code",
   "execution_count": 10,
   "metadata": {},
   "outputs": [
    {
     "name": "stdout",
     "output_type": "stream",
     "text": [
      "'my first heading'\n",
      "'My first paragraph.'\n",
      "'London'\n"
     ]
    }
   ],
   "source": [
    "#navigating down using stripped method\n",
    "for string in book_soup.stripped_strings:\n",
    "    print(repr(string))"
   ]
  },
  {
   "cell_type": "code",
   "execution_count": 15,
   "metadata": {},
   "outputs": [
    {
     "data": {
      "text/plain": [
       "<html>\n",
       "<head>\n",
       "<script></script>\n",
       "</head>\n",
       "<body>\n",
       "<h1>my first heading</h1>\n",
       "<b><!--this a comment line--></b>\n",
       "<p class=\"test\" title=\"About me\">My first paragraph.</p>\n",
       "<div class=\"cities\">\n",
       "<h2>London</h2>\n",
       "</div>\n",
       "</body>\n",
       "</html>"
      ]
     },
     "execution_count": 15,
     "metadata": {},
     "output_type": "execute_result"
    }
   ],
   "source": [
    "#navigating up using parent method\n",
    "body_tag = book_soup.find(\"head\")\n",
    "body_tag.parent"
   ]
  }
 ],
 "metadata": {
  "interpreter": {
   "hash": "a248ee2b75b2cfe4cb0741da8651464fa227ad10b1dd03ad8a0df0c0771cdb02"
  },
  "kernelspec": {
   "display_name": "Python 3.8.5 64-bit",
   "language": "python",
   "name": "python3"
  },
  "language_info": {
   "codemirror_mode": {
    "name": "ipython",
    "version": 3
   },
   "file_extension": ".py",
   "mimetype": "text/x-python",
   "name": "python",
   "nbconvert_exporter": "python",
   "pygments_lexer": "ipython3",
   "version": "3.8.5"
  },
  "orig_nbformat": 4
 },
 "nbformat": 4,
 "nbformat_minor": 2
}
