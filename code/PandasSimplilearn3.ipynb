{
 "cells": [
  {
   "cell_type": "code",
   "execution_count": null,
   "metadata": {},
   "outputs": [],
   "source": [
    "import pandas as pd"
   ]
  },
  {
   "cell_type": "code",
   "execution_count": null,
   "metadata": {},
   "outputs": [],
   "source": [
    "df_movies_rating = pd.DataFrame({'movie 1':[5,4,3,3,2,1],'movie 2':[4,5,2,3,4,2]},\n",
    "    index=['Tom','Jeff','peter','Ram','Ted','Paul']\n",
    ")"
   ]
  },
  {
   "cell_type": "code",
   "execution_count": null,
   "metadata": {},
   "outputs": [],
   "source": [
    "df_movies_rating"
   ]
  },
  {
   "cell_type": "code",
   "execution_count": null,
   "metadata": {},
   "outputs": [],
   "source": [
    "#movie rating\n",
    "def movie_grade(rating):\n",
    "    if rating==5:\n",
    "        return 'A'\n",
    "    if rating==4:\n",
    "        return 'B'\n",
    "    if rating==3:\n",
    "        return 'C'\n",
    "    else:\n",
    "        return 'F'"
   ]
  },
  {
   "cell_type": "code",
   "execution_count": null,
   "metadata": {},
   "outputs": [],
   "source": [
    "df_movies_rating.applymap(movie_grade)"
   ]
  }
 ],
 "metadata": {
  "interpreter": {
   "hash": "a248ee2b75b2cfe4cb0741da8651464fa227ad10b1dd03ad8a0df0c0771cdb02"
  },
  "kernelspec": {
   "display_name": "Python 3.8.5 64-bit",
   "language": "python",
   "name": "python3"
  },
  "language_info": {
   "codemirror_mode": {
    "name": "ipython",
    "version": 3
   },
   "file_extension": ".py",
   "mimetype": "text/x-python",
   "name": "python",
   "nbconvert_exporter": "python",
   "pygments_lexer": "ipython3",
   "version": "3.8.5"
  },
  "orig_nbformat": 4
 },
 "nbformat": 4,
 "nbformat_minor": 2
}
